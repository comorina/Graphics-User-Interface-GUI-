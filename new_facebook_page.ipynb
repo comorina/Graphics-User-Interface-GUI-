{
 "cells": [
  {
   "cell_type": "code",
   "execution_count": 1,
   "id": "infrared-picture",
   "metadata": {},
   "outputs": [],
   "source": [
    "from tkinter import*\n",
    "from tkinter import messagebox"
   ]
  },
  {
   "cell_type": "code",
   "execution_count": 102,
   "id": "activated-sheriff",
   "metadata": {},
   "outputs": [],
   "source": [
    "# Main window\n",
    "win = Tk()\n",
    "win.configure(bg='blue')\n",
    "win.state('zoomed')\n",
    "\n",
    "# Frame create... .\n",
    "frm=Frame(win)\n",
    "frm.configure(bg='white')\n",
    "frm.place(x=650,y=200,width=80,height=80)\n",
    "lbl_title=Label(frm,text='f',font=('',70,'bold'),bg='white',fg='blue')\n",
    "lbl_title.place(x=20,y=0)\n",
    "\n",
    "# Frame2 create... .\n",
    "frm2 = Frame(win)\n",
    "frm2.configure(bg='blue')\n",
    "frm2.place(x=480,y=350, width=450, height=250)\n",
    "lbl_u=Label(frm2, text='Username', font=('',15,''),bg='blue')\n",
    "lbl_p=Label(frm2, text='Password', font=('',15,''),bg='blue')\n",
    "\n",
    "# Label call... .\n",
    "lbl_u.place(x=30, y=29)\n",
    "lbl_p.place(x=30, y=79)\n",
    "\n",
    "# Entry text field... .\n",
    "e_u=Entry(frm2,font=('',12),bd=2)\n",
    "e_p=Entry(frm2,font=('',12),bd=2)\n",
    "\n",
    "# text field place\n",
    "e_u.place(x=200, y=30)\n",
    "e_p.place(x=200, y=80)\n",
    "\n",
    "# Button create... .\n",
    "b1 = Button(frm2, text='login',font=('',12,'bold'),fg='white',bg='blue')\n",
    "b2 = Button(frm2,text='SignUp', font=('',12,'bold'),bg='green',fg='white')\n",
    "\n",
    "# Button place... . \n",
    "b1.place(x=190, y=154)\n",
    "b2.place(x=180, y=190)\n",
    "# window showing function... .\n",
    "win.mainloop()"
   ]
  },
  {
   "cell_type": "code",
   "execution_count": null,
   "id": "tutorial-chain",
   "metadata": {},
   "outputs": [],
   "source": []
  }
 ],
 "metadata": {
  "kernelspec": {
   "display_name": "Python 3",
   "language": "python",
   "name": "python3"
  },
  "language_info": {
   "codemirror_mode": {
    "name": "ipython",
    "version": 3
   },
   "file_extension": ".py",
   "mimetype": "text/x-python",
   "name": "python",
   "nbconvert_exporter": "python",
   "pygments_lexer": "ipython3",
   "version": "3.9.2"
  }
 },
 "nbformat": 4,
 "nbformat_minor": 5
}
