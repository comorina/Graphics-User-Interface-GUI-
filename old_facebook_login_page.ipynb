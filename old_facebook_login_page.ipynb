{
 "cells": [
  {
   "cell_type": "code",
   "execution_count": 1,
   "id": "widespread-guest",
   "metadata": {},
   "outputs": [],
   "source": [
    "# Header file... .\n",
    "\n",
    "from tkinter import *\n",
    "from PIL import Image, ImageTk\n",
    "from tkinter import messagebox"
   ]
  },
  {
   "cell_type": "code",
   "execution_count": 17,
   "id": "advisory-chase",
   "metadata": {},
   "outputs": [],
   "source": [
    "# Main window... .\n",
    "win=Tk()\n",
    "win.state('zoomed')\n",
    "win.configure(bg='white')\n",
    "# Frame1 coding...  .\n",
    "\n",
    "frm = Frame(win)\n",
    "frm.configure(bg='dark blue')\n",
    "frm.place(x=0,y=0,relwidth=1,relheight=.2)\n",
    "lbl_title = Label(frm,text='facebook', font=('', 100, 'bold'),bg='dark blue', fg='white')\n",
    "lbl_title.pack(side='left',anchor='n')\n",
    "\n",
    "# Frame2 coding...  .\n",
    "\n",
    "frm2 = Frame(win)\n",
    "frm2.configure()\n",
    "frm2.place(relx=.3, rely=.4,width=500,height = 250)\n",
    "lbl_u = Label(frm2, text='Email id:', font=('',15))\n",
    "lbl_p = Label(frm2,text='Password:', font=('',15))\n",
    "lbl_u.place(x=75,y=25)\n",
    "lbl_p.place(x=75,y=100)\n",
    "\n",
    "\n",
    "# text field ....\n",
    "\n",
    "e_u=Entry(frm2, font=('',12),bd=3)\n",
    "e_p=Entry(frm2, font=('',12),bd=3)\n",
    "e_u.place(x=260,y=25)\n",
    "e_p.place(x=260,y=100)\n",
    "\n",
    "# Button ... .\n",
    "\n",
    "b1=Button(frm2, text='login',font=('',10,'bold') ,bd=3,bg='dark blue',fg='white')\n",
    "b2=Button(frm2, text='SignUp', font=('',10,'bold'), bd=3, bg='green', fg='white')\n",
    "b2.pack(side='bottom', anchor='c',padx=10, pady=5)\n",
    "b1.pack(side='bottom',anchor='c', ipadx=10)\n",
    "\n",
    "\n",
    "\n",
    "\n",
    "\n",
    "\n",
    "\n",
    "win.mainloop()"
   ]
  },
  {
   "cell_type": "code",
   "execution_count": null,
   "id": "private-carrier",
   "metadata": {},
   "outputs": [],
   "source": []
  }
 ],
 "metadata": {
  "kernelspec": {
   "display_name": "Python 3",
   "language": "python",
   "name": "python3"
  },
  "language_info": {
   "codemirror_mode": {
    "name": "ipython",
    "version": 3
   },
   "file_extension": ".py",
   "mimetype": "text/x-python",
   "name": "python",
   "nbconvert_exporter": "python",
   "pygments_lexer": "ipython3",
   "version": "3.9.2"
  }
 },
 "nbformat": 4,
 "nbformat_minor": 5
}
